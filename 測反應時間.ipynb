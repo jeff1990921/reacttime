{
  "nbformat": 4,
  "nbformat_minor": 0,
  "metadata": {
    "colab": {
      "name": "測反應時間.ipynb",
      "provenance": [],
      "collapsed_sections": []
    },
    "kernelspec": {
      "name": "python3",
      "display_name": "Python 3"
    }
  },
  "cells": [
    {
      "cell_type": "markdown",
      "metadata": {
        "id": "Chta-XI5gnnN",
        "colab_type": "text"
      },
      "source": [
        "計算反應時間並計算平均"
      ]
    },
    {
      "cell_type": "code",
      "metadata": {
        "id": "QxRIJkInCHF5",
        "colab_type": "code",
        "colab": {}
      },
      "source": [
        "import time,random\n",
        "def measure():\n",
        "    total = 0\n",
        "    for i in range(3):\n",
        "        print(\"Get ready…\",flush=True)\n",
        "        time.sleep(5*random.random()+5)\n",
        "        t0=time.time()\n",
        "        input(\"Press [Enter] now!\");\n",
        "        total += time.time()-t0\n",
        "    return total / 3"
      ],
      "execution_count": 0,
      "outputs": []
    },
    {
      "cell_type": "code",
      "metadata": {
        "id": "Sg40PwdlCUHa",
        "colab_type": "code",
        "outputId": "5eb2ef51-7691-47a2-84ab-bbc2e0f33d72",
        "colab": {
          "base_uri": "https://localhost:8080/",
          "height": 136
        }
      },
      "source": [
        "print(measure())"
      ],
      "execution_count": 0,
      "outputs": [
        {
          "output_type": "stream",
          "text": [
            "Get ready…\n",
            "Press [Enter] now!\n",
            "Get ready…\n",
            "Press [Enter] now!\n",
            "Get ready…\n",
            "Press [Enter] now!\n",
            "0.7861170768737793\n"
          ],
          "name": "stdout"
        }
      ]
    }
  ]
}